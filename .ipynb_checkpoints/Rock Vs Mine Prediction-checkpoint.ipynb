{
 "cells": [
  {
   "cell_type": "code",
   "execution_count": 1,
   "id": "96a80cde",
   "metadata": {},
   "outputs": [],
   "source": [
    "# # Rock Vs Mine\n",
    "# --> Suppose there is war between countries and we have assigned submarines to check whether that there is\n",
    "# mine or rock inside water.\n",
    "# --> Mines are explosives that explode when some objects come in contact with it.\n",
    "# --> And there can be rocks as well in the ocean.\n",
    "# --> So submarine has to predict whether it is crossing a mine or a rock.\n",
    "# --> So we have to build a system to predict whether the object beneath the submarine is mine or rock.\n",
    "# --> How it can be done?\n",
    "# --> Submarine uses a sonar that sends sound signal and a review switch backs. So, this signal is then processed to \n",
    "#     detect whether the object is mine or just a rockin the ocean.\n",
    "# --> WorkFlow for this project:\n",
    "#     1) Collect Sonar Data: Laboratory setup experiment can be done where sonar is used to send and receive signals \n",
    "#         bounce back from a metal cylinder and some rocks, so because mines will be made of metals right.\n",
    "#         so, we collect this data which is nothing but the sonar data obtained from a rock and a metal cylinder.\n",
    "#         we use this sonar data and feed it to our machine learning model.\n",
    "#         And then our machine learning model can predict whether the object is made up of metal or it is just a rock.\n",
    "#         This is the principle we are going to use in our prediction.\n",
    "#     2) Data preprocessing ; process data for better results\n",
    "#     3) train test split: we will train our model with 90% of data and 10% will be used to test. And evaluate our model\n",
    "#         with the help of 10% data.\n",
    "#     4) feed to machine learning model: Logistic regression model,because this model works very well for\n",
    "#         binary classification problem. and this is a binary classification problem (Rock or a Mine).\n",
    "#          this is a supervised learnin algorithm."
   ]
  },
  {
   "cell_type": "code",
   "execution_count": null,
   "id": "1c5a6d25",
   "metadata": {},
   "outputs": [],
   "source": []
  }
 ],
 "metadata": {
  "kernelspec": {
   "display_name": "Python 3 (ipykernel)",
   "language": "python",
   "name": "python3"
  },
  "language_info": {
   "codemirror_mode": {
    "name": "ipython",
    "version": 3
   },
   "file_extension": ".py",
   "mimetype": "text/x-python",
   "name": "python",
   "nbconvert_exporter": "python",
   "pygments_lexer": "ipython3",
   "version": "3.10.4"
  }
 },
 "nbformat": 4,
 "nbformat_minor": 5
}
